{
 "cells": [
  {
   "cell_type": "code",
   "execution_count": 1,
   "metadata": {},
   "outputs": [],
   "source": [
    "import networkx as nx\n",
    "import csv\n",
    "import operator\n",
    "from prettytable import PrettyTable"
   ]
  },
  {
   "cell_type": "code",
   "execution_count": 2,
   "metadata": {},
   "outputs": [],
   "source": [
    "'''\n",
    "CSV-Dateien einlesen\n",
    "'''\n",
    "ids = []   # Liste Ids zu Email-Adressen\n",
    "emails = [] # Liste Email-Adressen\n",
    "with open('ids.csv') as csvfile:\n",
    "    readCSV = csv.reader(csvfile, delimiter=',')\n",
    "    next(readCSV) #erste Zeile wird ignoriert\n",
    "    \n",
    "    for column in readCSV:\n",
    "        ids.append(column[0]) # 1. Spalte der Tabelle sind die IDs\n",
    "        emails.append(column[1]) # 2. Spalte der Tabelle sind die Email-Adressen\n",
    "        \n",
    "        "
   ]
  },
  {
   "cell_type": "code",
   "execution_count": 3,
   "metadata": {},
   "outputs": [],
   "source": [
    "idsFrom = [] # Liste IDs der Absender der Emails\n",
    "idsTo = [] # Liste IDs der Empfaenger der Emails\n",
    "with open('dnc-temporalGraph.csv') as csvfile2:\n",
    "    readCSV2 = csv.reader(csvfile2, delimiter='\\t')\n",
    "    next(readCSV2)\n",
    "    for column in readCSV2:\n",
    "        idsFrom.append(column[0])\n",
    "        idsTo.append(column[1])"
   ]
  },
  {
   "cell_type": "code",
   "execution_count": 4,
   "metadata": {},
   "outputs": [],
   "source": [
    "'''\n",
    "Da manche Email-Adressen mehrfach vorkommen, sich nur in Gross- und Kleinschreibung unterscheiden, \n",
    "werden alle Email-Adressen in Kleinbuchstaben geschrieben gespeichert\n",
    "'''\n",
    "\n",
    "for i in range(0, len(emails)):\n",
    "    emails[i] = emails[i].lower()"
   ]
  },
  {
   "cell_type": "code",
   "execution_count": 5,
   "metadata": {},
   "outputs": [],
   "source": [
    "'''\n",
    "Dictionary mit IDs als keys und Email-Adressen als values erstellen\n",
    "'''\n",
    "\n",
    "dictIdEmail = {}\n",
    "for i in range(0, len(emails)):\n",
    "    dictIdEmail.update({ids[i]:emails[i]})"
   ]
  },
  {
   "cell_type": "code",
   "execution_count": 7,
   "metadata": {},
   "outputs": [],
   "source": [
    "'''\n",
    "IDs in idsFrom und idsTo werden durch Email-Adressen ersetzt\n",
    "'''\n",
    "for i in range(0, len(idsFrom)):\n",
    "    idsFrom[i] = dictIdEmail[idsFrom[i]]\n",
    "    \n",
    "for i in range(0, len(idsTo)):\n",
    "    idsTo[i] = dictIdEmail[idsTo[i]]\n",
    "    "
   ]
  },
  {
   "cell_type": "code",
   "execution_count": 8,
   "metadata": {},
   "outputs": [],
   "source": [
    "'''\n",
    "mehrfach vorkommende Email-Adressen sollen wie eine einzige Adresse behandelt werden,\n",
    "deshalb werden diese entfernt\n",
    "'''\n",
    "emails2 = []\n",
    "for i in range(0, len(emails)):\n",
    "    if emails[i] not in emails2:\n",
    "        emails2.append(emails[i])\n",
    "emails = emails2\n"
   ]
  },
  {
   "cell_type": "code",
   "execution_count": 9,
   "metadata": {},
   "outputs": [],
   "source": [
    "'''\n",
    "Knoten in Graph G einfuegen\n",
    "'''\n",
    "G = nx.DiGraph()\n",
    "\n",
    "for i in range(0, len(emails)):\n",
    "    G.add_node(emails[i])"
   ]
  },
  {
   "cell_type": "code",
   "execution_count": 10,
   "metadata": {},
   "outputs": [],
   "source": [
    "'''\n",
    "Kanten in Graph G einfuegen\n",
    "'''\n",
    "for i in range(0, len(idsFrom)):\n",
    "    G.add_edge(idsFrom[i], idsTo[i])"
   ]
  },
  {
   "cell_type": "code",
   "execution_count": 11,
   "metadata": {},
   "outputs": [],
   "source": [
    "'''\n",
    "Loeschen von Knoten ohne Email-Adressen, da diese von Gephi sowieso ignoriert werden.\n",
    "Wuerden diese Knoten nicht geloescht werden, kann dies z.B. zu unterschiedlichen PageRank-Werten\n",
    "fuehren, d.h. die PageRank-Werte welche mit Python berechnet werden unterscheiden sich von\n",
    "den PageRank-Werten welche mit Gephi berechnet werden. (wollte eigentlich leeren Email-Adressen \"unknown\"\n",
    "zuweisen, daber dann wurde ich dies ja korrigieren bzw. veraendern und nicht ignorieren)\n",
    "'''\n",
    "G.remove_node('')"
   ]
  },
  {
   "cell_type": "code",
   "execution_count": 13,
   "metadata": {},
   "outputs": [],
   "source": [
    "'''\n",
    "Selfloops entfernen\n",
    "'''\n",
    "selfloopList = list(nx.nodes_with_selfloops(G))\n",
    "for i in range(0, len(selfloopList)):\n",
    "    G.remove_edge(selfloopList[i], selfloopList[i])"
   ]
  },
  {
   "cell_type": "code",
   "execution_count": 14,
   "metadata": {},
   "outputs": [],
   "source": [
    "'''\n",
    "Bestimmen der groesseten zusammenhaengenden Komponente in Graph G,\n",
    "welche anschliessend neuer Graph G wird\n",
    "'''\n",
    "largest = max(nx.strongly_connected_components(G), key=len)\n",
    "G = G.subgraph(largest)"
   ]
  },
  {
   "cell_type": "code",
   "execution_count": 17,
   "metadata": {},
   "outputs": [
    {
     "name": "stdout",
     "output_type": "stream",
     "text": [
      "+----------------------+---------+\n",
      "|     EmailAdresse     | Eingrad |\n",
      "+----------------------+---------+\n",
      "|   mirandal@dnc.org   |   218   |\n",
      "|   kaplanj@dnc.org    |   133   |\n",
      "|    comers@dnc.org    |   100   |\n",
      "| paustenbachm@dnc.org |    85   |\n",
      "|   parrishd@dnc.org   |    68   |\n",
      "|   walkere@dnc.org    |    64   |\n",
      "|   palermor@dnc.org   |    52   |\n",
      "|  manriquezp@dnc.org  |    51   |\n",
      "|    allenz@dnc.org    |    50   |\n",
      "|    daceya@dnc.org    |    48   |\n",
      "|  houghtonk@dnc.org   |    43   |\n",
      "|   garciaw@dnc.org    |    39   |\n",
      "| freundlichc@dnc.org  |    39   |\n",
      "|     weis@dnc.org     |    38   |\n",
      "|   dillonl@dnc.org    |    37   |\n",
      "+----------------------+---------+\n"
     ]
    }
   ],
   "source": [
    "'''\n",
    "15 Email-Adressen mit hoechsten Eingrad bestimmen und als Tabelle ausgeben\n",
    "'''\n",
    "listInDegree = []\n",
    "\n",
    "for i in range(0, len(emails)):\n",
    "    if G.__contains__(emails[i]):\n",
    "        listInDegree.append((G.in_degree(emails[i]), emails[i]))\n",
    "        \n",
    "listInDegreeSorted = sorted(listInDegree, key=lambda list1: list1[0], reverse=True)\n",
    "\n",
    "pretTab = PrettyTable([\"EmailAdresse\", \"Eingrad\"])\n",
    "for i in range(0, 15):\n",
    "    pretTab.add_row([listInDegreeSorted[i][1], listInDegreeSorted[i][0]])\n",
    "print(pretTab)"
   ]
  },
  {
   "cell_type": "code",
   "execution_count": 20,
   "metadata": {},
   "outputs": [
    {
     "name": "stdout",
     "output_type": "stream",
     "text": [
      "+----------------------+----------------------+\n",
      "|     EmailAdresse     |       PageRank       |\n",
      "+----------------------+----------------------+\n",
      "|   mirandal@dnc.org   | 0.07313211867573442  |\n",
      "|   kaplanj@dnc.org    | 0.052427860188623415 |\n",
      "|    comers@dnc.org    | 0.03489861769062445  |\n",
      "|   parrishd@dnc.org   | 0.024705659364351307 |\n",
      "| paustenbachm@dnc.org | 0.019163997032295967 |\n",
      "|    allenz@dnc.org    | 0.01759766830666043  |\n",
      "|    stowee@dnc.org    | 0.01219232586877108  |\n",
      "|   walkere@dnc.org    | 0.011508173844306592 |\n",
      "|   wrighta@dnc.org    | 0.011385481760180036 |\n",
      "|    daceya@dnc.org    | 0.01059455092200594  |\n",
      "|   palermor@dnc.org   | 0.010574923987952988 |\n",
      "|  manriquezp@dnc.org  | 0.009837432974887785 |\n",
      "|   hoffmana@dnc.org   | 0.009138771960749702 |\n",
      "|  houghtonk@dnc.org   | 0.008569599731757527 |\n",
      "|     coxc@dnc.org     |  0.0079664063918546  |\n",
      "+----------------------+----------------------+\n"
     ]
    }
   ],
   "source": [
    "'''\n",
    "15 Email-Adressen mit dem hoechsten PageRank bestimmen und als TAbelle ausgeben\n",
    "'''\n",
    "pageRankDict = nx.pagerank(G)\n",
    "pageRankSorted = sorted(pageRankDict.items(), key=operator.itemgetter(1), reverse=True)\n",
    "\n",
    "pretTab2 = PrettyTable([\"EmailAdresse\", \"PageRank\"])\n",
    "for i in range(0, 15):\n",
    "    pretTab2.add_row([pageRankSorted[i][0], pageRankSorted[i][1]])\n",
    "print(pretTab2)"
   ]
  },
  {
   "cell_type": "code",
   "execution_count": 22,
   "metadata": {},
   "outputs": [],
   "source": [
    "'''\n",
    "Erstellen einer gexf_Datei des Graphen G, welche mit Gephi geoffnet werden kann\n",
    "'''\n",
    "nx.write_gexf(G, \"Loesung_Graph_GroessteKomp.gexf\")"
   ]
  },
  {
   "cell_type": "code",
   "execution_count": null,
   "metadata": {},
   "outputs": [],
   "source": []
  }
 ],
 "metadata": {
  "kernelspec": {
   "display_name": "Python 3",
   "language": "python",
   "name": "python3"
  },
  "language_info": {
   "codemirror_mode": {
    "name": "ipython",
    "version": 3
   },
   "file_extension": ".py",
   "mimetype": "text/x-python",
   "name": "python",
   "nbconvert_exporter": "python",
   "pygments_lexer": "ipython3",
   "version": "3.6.8"
  }
 },
 "nbformat": 4,
 "nbformat_minor": 2
}
